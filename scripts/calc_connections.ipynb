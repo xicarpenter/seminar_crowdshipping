{
 "cells": [
  {
   "cell_type": "code",
   "execution_count": 31,
   "metadata": {},
   "outputs": [
    {
     "name": "stdout",
     "output_type": "stream",
     "text": [
      "{'Invalid': 37, 1.0: 174, 2.0: 114, 3.0: 7}\n"
     ]
    }
   ],
   "source": [
    "import pickle\n",
    "\n",
    "with open(\"../data/connections.pkl\", \"rb\") as f:\n",
    "    connections = pickle.load(f)\n",
    "\n",
    "conn_unpacked = {}\n",
    "station_pairs = []\n",
    "for line, value in connections.items():\n",
    "    for station_pair, duration in value.items():\n",
    "        if duration is not None:\n",
    "            conn_unpacked[station_pair] = duration\n",
    "\n",
    "for line, value in connections.items():\n",
    "    for station_pair, duration in value.items():\n",
    "        if duration is None:\n",
    "            if station_pair in conn_unpacked.keys():\n",
    "                connections[line][station_pair] = conn_unpacked[station_pair]\n",
    "\n",
    "sum_dict = {\"Invalid\": 0}\n",
    "for line, value in connections.items():\n",
    "    for station_pair, duration in value.items():\n",
    "        if duration is not None:\n",
    "            if duration not in sum_dict.keys():\n",
    "                sum_dict[duration] = 1\n",
    "            else:\n",
    "                sum_dict[duration] += 1\n",
    "\n",
    "        else:\n",
    "            sum_dict[\"Invalid\"] += 1\n",
    "\n",
    "print(sum_dict)\n"
   ]
  },
  {
   "cell_type": "code",
   "execution_count": 32,
   "metadata": {},
   "outputs": [
    {
     "name": "stdout",
     "output_type": "stream",
     "text": [
      "1.0 174 0.5898305084745763\n",
      "2.0 114 0.3864406779661017\n",
      "3.0 7 0.023728813559322035\n",
      "0.8885542168674698\n"
     ]
    }
   ],
   "source": [
    "total = 0\n",
    "for key, value in sum_dict.items():\n",
    "    if key != \"Invalid\":\n",
    "        total += value\n",
    "\n",
    "for key, value in sum_dict.items():\n",
    "    if key != \"Invalid\":\n",
    "        print(key, value, value/total)\n",
    "        sum_dict[key] = value/total\n",
    "\n",
    "print(total /(total + sum_dict[\"Invalid\"]))"
   ]
  },
  {
   "cell_type": "code",
   "execution_count": 33,
   "metadata": {},
   "outputs": [],
   "source": [
    "import numpy as np\n",
    "\n",
    "\n",
    "choices = {1: sum_dict[1.0], 2: sum_dict[2.0], 3: sum_dict[3.0]}\n",
    "\n",
    "for line, value in connections.items():\n",
    "    for station_pair, duration in value.items():\n",
    "        if duration is None:\n",
    "            connections[line][station_pair] = np.random.choice(list(choices.keys()), 1, p=list(choices.values()))"
   ]
  },
  {
   "cell_type": "code",
   "execution_count": 34,
   "metadata": {},
   "outputs": [],
   "source": [
    "with open(\"../data/connections_full.pkl\", \"wb\") as f:\n",
    "    pickle.dump(connections, f)"
   ]
  },
  {
   "cell_type": "code",
   "execution_count": null,
   "metadata": {},
   "outputs": [],
   "source": []
  }
 ],
 "metadata": {
  "kernelspec": {
   "display_name": "Python 3",
   "language": "python",
   "name": "python3"
  },
  "language_info": {
   "codemirror_mode": {
    "name": "ipython",
    "version": 3
   },
   "file_extension": ".py",
   "mimetype": "text/x-python",
   "name": "python",
   "nbconvert_exporter": "python",
   "pygments_lexer": "ipython3",
   "version": "3.10.12"
  }
 },
 "nbformat": 4,
 "nbformat_minor": 2
}
