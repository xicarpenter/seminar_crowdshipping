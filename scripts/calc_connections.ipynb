{
 "cells": [
  {
   "cell_type": "code",
   "execution_count": 1,
   "metadata": {},
   "outputs": [
    {
     "name": "stdout",
     "output_type": "stream",
     "text": [
      "{'Invalid': 37, 1.0: 174, 2.0: 114, 3.0: 7}\n"
     ]
    }
   ],
   "source": [
    "import pickle\n",
    "\n",
    "with open(\"../data/stations_data/connections_saved.pkl\", \"rb\") as f:\n",
    "    connections = pickle.load(f)\n",
    "\n",
    "conn_unpacked = {}\n",
    "station_pairs = []\n",
    "for line, value in connections.items():\n",
    "    for station_pair, duration in value.items():\n",
    "        if duration is not None:\n",
    "            conn_unpacked[station_pair] = duration\n",
    "\n",
    "for line, value in connections.items():\n",
    "    for station_pair, duration in value.items():\n",
    "        if duration is None:\n",
    "            if station_pair in conn_unpacked.keys():\n",
    "                connections[line][station_pair] = conn_unpacked[station_pair]\n",
    "\n",
    "sum_dict = {\"Invalid\": 0}\n",
    "for line, value in connections.items():\n",
    "    for station_pair, duration in value.items():\n",
    "        if duration is not None:\n",
    "            if duration not in sum_dict.keys():\n",
    "                sum_dict[duration] = 1\n",
    "            else:\n",
    "                sum_dict[duration] += 1\n",
    "\n",
    "        else:\n",
    "            sum_dict[\"Invalid\"] += 1\n",
    "\n",
    "print(sum_dict)\n"
   ]
  },
  {
   "cell_type": "code",
   "execution_count": 2,
   "metadata": {},
   "outputs": [
    {
     "name": "stdout",
     "output_type": "stream",
     "text": [
      "Time from s to s+1\n",
      "1 min[s]: 59.0%\n",
      "2 min[s]: 38.6%\n",
      "3 min[s]: 2.4%\n",
      "Percentage of valid: 88.9 %\n"
     ]
    }
   ],
   "source": [
    "total = 0\n",
    "for key, value in sum_dict.items():\n",
    "    if key != \"Invalid\":\n",
    "        total += value\n",
    "\n",
    "print(\"Time from s to s+1\")\n",
    "for key, value in sum_dict.items():\n",
    "    if key != \"Invalid\":\n",
    "        print(f\"{int(key)} min[s]: {round(value/total, 3)*100}%\")\n",
    "        sum_dict[int(key)] = value/total\n",
    "\n",
    "print(\"Percentage of valid:\", round(total / (total + sum_dict[\"Invalid\"]), 3)*100, \"%\")"
   ]
  },
  {
   "cell_type": "code",
   "execution_count": 3,
   "metadata": {},
   "outputs": [],
   "source": [
    "import numpy as np\n",
    "\n",
    "\n",
    "choices = {1: sum_dict[1], 2: sum_dict[2], 3: sum_dict[3]}\n",
    "\n",
    "for line, value in connections.items():\n",
    "    for station_pair, duration in value.items():\n",
    "        if duration is None:\n",
    "            connections[line][station_pair] = int(np.random.choice(list(choices.keys()), 1, p=list(choices.values()))[0])\n",
    "\n",
    "        else:\n",
    "            connections[line][station_pair] = int(connections[line][station_pair])"
   ]
  },
  {
   "cell_type": "code",
   "execution_count": 4,
   "metadata": {},
   "outputs": [],
   "source": [
    "with open(\"../data/stations_data/connections_full.pkl\", \"wb\") as f:\n",
    "    pickle.dump(connections, f)"
   ]
  },
  {
   "cell_type": "code",
   "execution_count": null,
   "metadata": {},
   "outputs": [],
   "source": []
  }
 ],
 "metadata": {
  "kernelspec": {
   "display_name": "Python 3",
   "language": "python",
   "name": "python3"
  },
  "language_info": {
   "codemirror_mode": {
    "name": "ipython",
    "version": 3
   },
   "file_extension": ".py",
   "mimetype": "text/x-python",
   "name": "python",
   "nbconvert_exporter": "python",
   "pygments_lexer": "ipython3",
   "version": "3.10.12"
  }
 },
 "nbformat": 4,
 "nbformat_minor": 2
}
