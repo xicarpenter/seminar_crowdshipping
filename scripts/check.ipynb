{
 "cells": [
  {
   "cell_type": "code",
   "execution_count": 10,
   "metadata": {},
   "outputs": [],
   "source": [
    "import pickle\n",
    "\n",
    "path = \"../output/models_10751.pkl\"\n",
    "\n",
    "with open(path, \"rb\") as f:\n",
    "    params = pickle.load(f)"
   ]
  },
  {
   "cell_type": "code",
   "execution_count": 13,
   "metadata": {},
   "outputs": [
    {
     "data": {
      "text/plain": [
       "['Wissenschaftspark Marienw.',\n",
       " 'Jaedekamp',\n",
       " 'Auf der Klappenburg',\n",
       " 'Lauckerthof',\n",
       " 'Freudenthalstrasse',\n",
       " 'Stadtfriedhof Stoecken',\n",
       " 'Bahnhof Leinhausen',\n",
       " 'Herrenhaeuser Markt',\n",
       " 'Schaumburgstrasse',\n",
       " 'Herrenhaeuser Gaerten',\n",
       " 'Appelstrasse',\n",
       " 'Schneiderbg., W.-Busch-Mus.',\n",
       " 'Leibniz Universitaet',\n",
       " 'Koenigsworther Platz',\n",
       " 'Steintor',\n",
       " 'Kroepcke',\n",
       " 'Hauptbahnhof',\n",
       " 'Sedanstrasse, Lister Meile',\n",
       " 'Lister Platz',\n",
       " 'Lortzingstrasse',\n",
       " 'Vier Grenzen',\n",
       " 'Pelikanstrasse',\n",
       " 'Spannhagengarten',\n",
       " 'Klingerstrasse',\n",
       " 'Noltemeyerbruecke',\n",
       " 'In den Sieben Stuecken']"
      ]
     },
     "execution_count": 13,
     "metadata": {},
     "output_type": "execute_result"
    }
   ],
   "source": [
    "params.S_i[\"C54\"]"
   ]
  }
 ],
 "metadata": {
  "kernelspec": {
   "display_name": "Python 3",
   "language": "python",
   "name": "python3"
  },
  "language_info": {
   "codemirror_mode": {
    "name": "ipython",
    "version": 3
   },
   "file_extension": ".py",
   "mimetype": "text/x-python",
   "name": "python",
   "nbconvert_exporter": "python",
   "pygments_lexer": "ipython3",
   "version": "3.10.12"
  }
 },
 "nbformat": 4,
 "nbformat_minor": 2
}
