{
 "cells": [
  {
   "cell_type": "code",
   "execution_count": 10,
   "metadata": {},
   "outputs": [],
   "source": [
    "import pickle\n",
    "\n",
    "path = \"../output/models_10751.pkl\"\n",
    "\n",
    "with open(path, \"rb\") as f:\n",
    "    params = pickle.load(f)"
   ]
  },
  {
   "cell_type": "code",
   "execution_count": 12,
   "metadata": {},
   "outputs": [
    {
     "data": {
      "text/plain": [
       "['Empelde',\n",
       " 'Hermann-Ehlers-Allee',\n",
       " 'Safariweg',\n",
       " 'Riechersstrasse',\n",
       " 'Am Soltekampe',\n",
       " 'Koertingsdorfer Weg',\n",
       " 'Bauweg',\n",
       " 'Am Lindener Hafen',\n",
       " 'Bernhard-Caspar-Strasse',\n",
       " 'Nieschlagstrasse',\n",
       " 'Lindener Marktplatz',\n",
       " 'Schwarzer Baer',\n",
       " 'Waterloo',\n",
       " 'Allerweg',\n",
       " 'Stadionbruecke',\n",
       " 'Bahnhof Linden, Fischerhof',\n",
       " 'Schuenemannplatz',\n",
       " 'Beekestrasse',\n",
       " 'Wallensteinstrasse',\n",
       " 'Unter den Birken',\n",
       " 'Stadtfriedhof Ricklingen']"
      ]
     },
     "execution_count": 12,
     "metadata": {},
     "output_type": "execute_result"
    }
   ],
   "source": [
    "params.S_i[\"C132\"]"
   ]
  }
 ],
 "metadata": {
  "kernelspec": {
   "display_name": "Python 3",
   "language": "python",
   "name": "python3"
  },
  "language_info": {
   "codemirror_mode": {
    "name": "ipython",
    "version": 3
   },
   "file_extension": ".py",
   "mimetype": "text/x-python",
   "name": "python",
   "nbconvert_exporter": "python",
   "pygments_lexer": "ipython3",
   "version": "3.10.12"
  }
 },
 "nbformat": 4,
 "nbformat_minor": 2
}
