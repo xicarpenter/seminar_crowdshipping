{
 "cells": [
  {
   "cell_type": "code",
   "execution_count": 102,
   "metadata": {},
   "outputs": [],
   "source": [
    "import pickle\n",
    "import pandas as pd\n",
    "\n",
    "\n",
    "def print_stats(df1: pd.DataFrame, \n",
    "                df2: pd.DataFrame):\n",
    "    print(\"parcels\")\n",
    "    print(f\" {df1['parcels'].mean(): .2f} +/- {round(df1['parcels'].std(), 2)}\", \"\\n\",\n",
    "          f\"{df2['parcels'].mean(): .2f} +/- {round(df2['parcels'].std(),2)}\", \"\\n\",)\n",
    "    \n",
    "    print(\"profit\")\n",
    "    print(f\" {df1['profit'].mean(): .2f} +/- {round(df1['profit'].std(), 2)}\", \"\\n\",\n",
    "          f\"{df2['profit'].mean(): .2f} +/- {round(df2['profit'].std(),2)}\", \"\\n\",)\n",
    "    \n",
    "    print(\"runtime\")\n",
    "    print(f\" {round(df1['runtime'].mean(),2): .2f} +/- {round(df1['runtime'].std(),2)}\", \"\\n\",\n",
    "          f\"{round(df2['runtime'].mean(),2): .2f} +/- {round(df2['runtime'].std(),2)}\", \"\\n\")\n",
    "\n",
    "    print(\"--- DIFF ---\")\n",
    "    print(\"Mean diff in profit\", \n",
    "          round(df1[\"profit\"].mean() - df2[\"profit\"].mean(),2))\n",
    "    print(\"Mean diff in parcels\", \n",
    "          round(df1[\"parcels\"].mean() - df2[\"parcels\"].mean(),2))\n",
    "    print(\"Mean diff in runtime\", \n",
    "          round(df1[\"runtime\"].mean() - df2[\"runtime\"].mean(), 2))\n",
    "\n",
    "\n",
    "def analyze_results(path: str, \n",
    "                    mode: str = \"of\"):\n",
    "    with open(path, \"rb\") as f:\n",
    "        results, seeds = pickle.load(f)\n",
    "\n",
    "    if mode == \"of\":\n",
    "        df1 = pd.DataFrame.from_dict(results[\"MAX_PROFIT\"]).transpose()\n",
    "        df2 = pd.DataFrame.from_dict(results[\"MAX_PARCELS\"]).transpose()\n",
    "\n",
    "    elif mode == \"10\":\n",
    "        df1 = pd.DataFrame.from_dict(results[\"10\"]).transpose()\n",
    "        df2 = pd.DataFrame.from_dict(results[\"no_10\"]).transpose()\n",
    "\n",
    "    print_stats(df1, df2)\n",
    "\n",
    "    return df1, df2, seeds"
   ]
  },
  {
   "cell_type": "code",
   "execution_count": 100,
   "metadata": {},
   "outputs": [],
   "source": [
    "paths = [\n",
    "    \"../num_analysis/results_of.pkl\",\n",
    "    \"../num_analysis/results_10_bin.pkl\",\n",
    "    \"../num_analysis/results_10_bin_2.pkl\",\n",
    "    \"../num_analysis/results_10_uni_4.pkl\"\n",
    "]"
   ]
  },
  {
   "cell_type": "markdown",
   "metadata": {},
   "source": [
    "### Analysis for the Objective Function"
   ]
  },
  {
   "cell_type": "code",
   "execution_count": 103,
   "metadata": {},
   "outputs": [
    {
     "name": "stdout",
     "output_type": "stream",
     "text": [
      "parcels\n",
      "  23.80 +/- 2.96 \n",
      "  23.80 +/- 2.96 \n",
      "\n",
      "profit\n",
      "  78.62 +/- 10.13 \n",
      "  16.70 +/- 11.69 \n",
      "\n",
      "runtime\n",
      "  17.65 +/- 4.71 \n",
      "  14.19 +/- 4.95 \n",
      "\n",
      "--- DIFF ---\n",
      "Mean diff in profit 61.92\n",
      "Mean diff in parcels 0.0\n",
      "Mean diff in runtime 3.47\n"
     ]
    }
   ],
   "source": [
    "max_profit, max_parcels, seeds_of = analyze_results(paths[0], \n",
    "                                                    mode=\"of\")"
   ]
  },
  {
   "cell_type": "markdown",
   "metadata": {},
   "source": [
    "### Analysis for Restriction 10 and l_s"
   ]
  },
  {
   "cell_type": "code",
   "execution_count": 104,
   "metadata": {},
   "outputs": [
    {
     "name": "stdout",
     "output_type": "stream",
     "text": [
      "parcels\n",
      "  22.90 +/- 3.03 \n",
      "  22.92 +/- 3.04 \n",
      "\n",
      "profit\n",
      "  75.34 +/- 10.03 \n",
      "  75.42 +/- 10.02 \n",
      "\n",
      "runtime\n",
      "  16.71 +/- 4.5 \n",
      "  54.29 +/- 22.27 \n",
      "\n",
      "--- DIFF ---\n",
      "Mean diff in profit -0.08\n",
      "Mean diff in parcels -0.02\n",
      "Mean diff in runtime -37.58\n"
     ]
    }
   ],
   "source": [
    "ten_bin, no_ten_bin, seeds_10_bin = analyze_results(paths[1], \n",
    "                                                    mode=\"10\")"
   ]
  },
  {
   "cell_type": "code",
   "execution_count": 105,
   "metadata": {},
   "outputs": [
    {
     "name": "stdout",
     "output_type": "stream",
     "text": [
      "parcels\n",
      "  22.62 +/- 3.02 \n",
      "  22.74 +/- 3.08 \n",
      "\n",
      "profit\n",
      "  74.12 +/- 10.26 \n",
      "  74.40 +/- 10.38 \n",
      "\n",
      "runtime\n",
      "  17.58 +/- 5.49 \n",
      "  97.36 +/- 159.52 \n",
      "\n",
      "--- DIFF ---\n",
      "Mean diff in profit -0.28\n",
      "Mean diff in parcels -0.12\n",
      "Mean diff in runtime -79.79\n"
     ]
    }
   ],
   "source": [
    "ten_bin_2, no_ten_bin_2, seeds_10_bin_2 = analyze_results(paths[2], \n",
    "                                                          mode=\"10\")"
   ]
  },
  {
   "cell_type": "code",
   "execution_count": 106,
   "metadata": {},
   "outputs": [
    {
     "name": "stdout",
     "output_type": "stream",
     "text": [
      "parcels\n",
      "  22.10 +/- 3.01 \n",
      "  22.30 +/- 3.0 \n",
      "\n",
      "profit\n",
      "  71.82 +/- 10.49 \n",
      "  72.52 +/- 10.42 \n",
      "\n",
      "runtime\n",
      "  15.97 +/- 3.69 \n",
      "  86.23 +/- 83.66 \n",
      "\n",
      "--- DIFF ---\n",
      "Mean diff in profit -0.7\n",
      "Mean diff in parcels -0.2\n",
      "Mean diff in runtime -70.26\n"
     ]
    }
   ],
   "source": [
    "ten_uni_4, no_ten_uni_4, seeds_10_uni_4 = analyze_results(paths[3], \n",
    "                                                          mode=\"10\")"
   ]
  }
 ],
 "metadata": {
  "kernelspec": {
   "display_name": "Python 3",
   "language": "python",
   "name": "python3"
  },
  "language_info": {
   "codemirror_mode": {
    "name": "ipython",
    "version": 3
   },
   "file_extension": ".py",
   "mimetype": "text/x-python",
   "name": "python",
   "nbconvert_exporter": "python",
   "pygments_lexer": "ipython3",
   "version": "3.10.12"
  }
 },
 "nbformat": 4,
 "nbformat_minor": 2
}
