{
 "cells": [
  {
   "cell_type": "code",
   "execution_count": 137,
   "metadata": {},
   "outputs": [],
   "source": [
    "import pickle\n",
    "import pandas as pd\n",
    "\n",
    "\n",
    "def pretty_print(df1: pd.DataFrame, \n",
    "                 df2: pd.DataFrame, \n",
    "                 column: str, \n",
    "                 mode: str = \"of\"):\n",
    "    if mode == \"of\":\n",
    "        col1 = \"MAX_PROFIT\"\n",
    "        col2 = \"MAX_PARCELS\"\n",
    "        empty = \" \"\n",
    "      \n",
    "    elif mode == \"10\":\n",
    "        col1 = \"10\"\n",
    "        col2 = \"no_10\"\n",
    "        empty = \"\"\n",
    "\n",
    "    print(column)\n",
    "    print(f\" {col1:<10}: {empty}{df1[column].mean(): .2f} +/- {round(df1[column].std(), 2)}\", \"\\n\",\n",
    "          f\"{col2:<10}: {df2[column].mean(): .2f} +/- {round(df2[column].std(),2)}\", \"\\n\",)\n",
    "\n",
    "\n",
    "\n",
    "def print_stats(df1: pd.DataFrame, \n",
    "                df2: pd.DataFrame,\n",
    "                mode: str = \"of\"):\n",
    "    if mode == \"of\":\n",
    "        col1 = \"MAX_PROFIT\"\n",
    "        col2 = \"MAX_PARCELS\"\n",
    "      \n",
    "    elif mode == \"10\":\n",
    "        col1 = \"10\"\n",
    "        col2 = \"no_10\"\n",
    "\n",
    "    for col in [\"profit\", \"parcels\", \"runtime\"]:\n",
    "      pretty_print(df1, df2, col, mode)\n",
    "\n",
    "    print(f\"--- DIFF ({col1} - {col2}) ---\")\n",
    "    print(\"Mean diff in profit\", \n",
    "          round(df1[\"profit\"].mean() - df2[\"profit\"].mean(),2))\n",
    "    print(\"Mean diff in parcels\", \n",
    "          round(df1[\"parcels\"].mean() - df2[\"parcels\"].mean(),2))\n",
    "    print(\"Mean diff in runtime\", \n",
    "          round(df1[\"runtime\"].mean() - df2[\"runtime\"].mean(), 2))\n",
    "\n",
    "\n",
    "def analyze_results(path: str, \n",
    "                    mode: str = \"of\"):\n",
    "    with open(path, \"rb\") as f:\n",
    "        results, seeds = pickle.load(f)\n",
    "\n",
    "    if mode == \"of\":\n",
    "        df1 = pd.DataFrame.from_dict(results[\"MAX_PROFIT\"]).transpose()\n",
    "        df2 = pd.DataFrame.from_dict(results[\"MAX_PARCELS\"]).transpose()\n",
    "\n",
    "    elif mode == \"10\":\n",
    "        df1 = pd.DataFrame.from_dict(results[\"10\"]).transpose()\n",
    "        df2 = pd.DataFrame.from_dict(results[\"no_10\"]).transpose()\n",
    "\n",
    "    print_stats(df1, df2, mode)\n",
    "\n",
    "    return df1, df2, seeds"
   ]
  },
  {
   "cell_type": "code",
   "execution_count": 132,
   "metadata": {},
   "outputs": [],
   "source": [
    "paths = [\n",
    "    \"../num_analysis/results_of.pkl\",\n",
    "    \"../num_analysis/results_10_bin.pkl\",\n",
    "    \"../num_analysis/results_10_bin_2.pkl\",\n",
    "    \"../num_analysis/results_10_uni_4.pkl\"\n",
    "]"
   ]
  },
  {
   "cell_type": "markdown",
   "metadata": {},
   "source": [
    "### Analysis for the Objective Function"
   ]
  },
  {
   "cell_type": "markdown",
   "metadata": {},
   "source": [
    "- MAX_PROFIT maximiert gleichzeitig auch die Anzahl an Paketen\n",
    "- Keine großen Unterschiede in der Rechenzeit; MAX_PARCELS leicht schneller\n",
    "- MAX_PROFIT hat offensichtlich viel höheren Profit"
   ]
  },
  {
   "cell_type": "code",
   "execution_count": 138,
   "metadata": {},
   "outputs": [
    {
     "name": "stdout",
     "output_type": "stream",
     "text": [
      "profit\n",
      " MAX_PROFIT:   78.62 +/- 10.13 \n",
      " MAX_PARCELS:  16.70 +/- 11.69 \n",
      "\n",
      "parcels\n",
      " MAX_PROFIT:   23.80 +/- 2.96 \n",
      " MAX_PARCELS:  23.80 +/- 2.96 \n",
      "\n",
      "runtime\n",
      " MAX_PROFIT:   17.65 +/- 4.71 \n",
      " MAX_PARCELS:  14.19 +/- 4.95 \n",
      "\n",
      "--- DIFF (MAX_PROFIT - MAX_PARCELS) ---\n",
      "Mean diff in profit 61.92\n",
      "Mean diff in parcels 0.0\n",
      "Mean diff in runtime 3.47\n"
     ]
    }
   ],
   "source": [
    "max_profit, max_parcels, seeds_of = analyze_results(paths[0], \n",
    "                                                    mode=\"of\")"
   ]
  },
  {
   "cell_type": "markdown",
   "metadata": {},
   "source": [
    "### Analysis for Restriction 10 and l_s"
   ]
  },
  {
   "cell_type": "markdown",
   "metadata": {},
   "source": [
    "- Rechenzeit von Modell ohne Restriktion 10 deutlich höher\n",
    "- Je kleiner die Kapazitäten, desto öfter treten fehlerhafte Instanzen auf\n",
    "- Rechenzeit ohne Restriktion 10 steigt relativ stark für niedrigere Kapazitäten; \n",
    "mit 10 bleibt relativ konstant über verschiedene Kapazitäten"
   ]
  },
  {
   "cell_type": "code",
   "execution_count": 139,
   "metadata": {},
   "outputs": [
    {
     "name": "stdout",
     "output_type": "stream",
     "text": [
      "profit\n",
      " 10        :  75.34 +/- 10.03 \n",
      " no_10     :  75.42 +/- 10.02 \n",
      "\n",
      "parcels\n",
      " 10        :  22.90 +/- 3.03 \n",
      " no_10     :  22.92 +/- 3.04 \n",
      "\n",
      "runtime\n",
      " 10        :  16.71 +/- 4.5 \n",
      " no_10     :  54.29 +/- 22.27 \n",
      "\n",
      "--- DIFF (10 - no_10) ---\n",
      "Mean diff in profit -0.08\n",
      "Mean diff in parcels -0.02\n",
      "Mean diff in runtime -37.58\n"
     ]
    }
   ],
   "source": [
    "ten_bin, no_ten_bin, seeds_10_bin = analyze_results(paths[1], \n",
    "                                                    mode=\"10\")"
   ]
  },
  {
   "cell_type": "code",
   "execution_count": 140,
   "metadata": {},
   "outputs": [
    {
     "name": "stdout",
     "output_type": "stream",
     "text": [
      "profit\n",
      " 10        :  74.12 +/- 10.26 \n",
      " no_10     :  74.40 +/- 10.38 \n",
      "\n",
      "parcels\n",
      " 10        :  22.62 +/- 3.02 \n",
      " no_10     :  22.74 +/- 3.08 \n",
      "\n",
      "runtime\n",
      " 10        :  17.58 +/- 5.49 \n",
      " no_10     :  97.36 +/- 159.52 \n",
      "\n",
      "--- DIFF (10 - no_10) ---\n",
      "Mean diff in profit -0.28\n",
      "Mean diff in parcels -0.12\n",
      "Mean diff in runtime -79.79\n"
     ]
    }
   ],
   "source": [
    "ten_bin_2, no_ten_bin_2, seeds_10_bin_2 = analyze_results(paths[2], \n",
    "                                                          mode=\"10\")"
   ]
  },
  {
   "cell_type": "code",
   "execution_count": 149,
   "metadata": {},
   "outputs": [
    {
     "name": "stdout",
     "output_type": "stream",
     "text": [
      "profit\n",
      " 10        :  71.82 +/- 10.49 \n",
      " no_10     :  72.52 +/- 10.42 \n",
      "\n",
      "parcels\n",
      " 10        :  22.10 +/- 3.01 \n",
      " no_10     :  22.30 +/- 3.0 \n",
      "\n",
      "runtime\n",
      " 10        :  15.97 +/- 3.69 \n",
      " no_10     :  86.23 +/- 83.66 \n",
      "\n",
      "--- DIFF (10 - no_10) ---\n",
      "Mean diff in profit -0.7\n",
      "Mean diff in parcels -0.2\n",
      "Mean diff in runtime -70.26\n"
     ]
    }
   ],
   "source": [
    "ten_uni_4, no_ten_uni_4, seeds_10_uni_4 = analyze_results(paths[3], \n",
    "                                                          mode=\"10\")"
   ]
  },
  {
   "cell_type": "code",
   "execution_count": 151,
   "metadata": {},
   "outputs": [
    {
     "data": {
      "text/plain": [
       "(47.650999999999996,\n",
       " 16.514499999999998,\n",
       " 57.2525,\n",
       " 15.603,\n",
       " 48.801,\n",
       " 16.435000000000002)"
      ]
     },
     "execution_count": 151,
     "metadata": {},
     "output_type": "execute_result"
    }
   ],
   "source": [
    "no_ten_bin_2[\"runtime\"].median(), ten_bin_2[\"runtime\"].median(), no_ten_uni_4[\"runtime\"].median(), ten_uni_4[\"runtime\"].median(), no_ten_bin[\"runtime\"].median(), ten_bin[\"runtime\"].median()"
   ]
  }
 ],
 "metadata": {
  "kernelspec": {
   "display_name": "Python 3",
   "language": "python",
   "name": "python3"
  },
  "language_info": {
   "codemirror_mode": {
    "name": "ipython",
    "version": 3
   },
   "file_extension": ".py",
   "mimetype": "text/x-python",
   "name": "python",
   "nbconvert_exporter": "python",
   "pygments_lexer": "ipython3",
   "version": "3.10.12"
  }
 },
 "nbformat": 4,
 "nbformat_minor": 2
}
