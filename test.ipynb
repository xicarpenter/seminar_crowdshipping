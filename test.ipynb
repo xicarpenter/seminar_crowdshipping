{
 "cells": [
  {
   "cell_type": "code",
   "execution_count": 9,
   "metadata": {},
   "outputs": [],
   "source": [
    "import pickle\n",
    "\n",
    "with open(\"params_s_is_m.pkl\", \"rb\") as f:\n",
    "    s_is_m = pickle.load(f)\n",
    "\n",
    "with open(\"params_I_j_2.pkl\", \"rb\") as f:\n",
    "    I_j = pickle.load(f)\n",
    "\n"
   ]
  },
  {
   "cell_type": "code",
   "execution_count": 10,
   "metadata": {},
   "outputs": [
    {
     "data": {
      "text/plain": [
       "['C15', 'C31', 'C63', 'C79', 'C122']"
      ]
     },
     "execution_count": 10,
     "metadata": {},
     "output_type": "execute_result"
    }
   ],
   "source": [
    "I_j[\"P21\"]"
   ]
  },
  {
   "cell_type": "code",
   "execution_count": 3,
   "metadata": {},
   "outputs": [
    {
     "name": "stdout",
     "output_type": "stream",
     "text": [
      "C1 Buettnerstrasse Niedersachsenring\n",
      "C15 Buettnerstrasse Niedersachsenring\n",
      "C31 Buettnerstrasse Windausstrasse\n",
      "C35 Buettnerstrasse Windausstrasse\n",
      "C40 Buettnerstrasse Grosser Kolonnenweg\n",
      "C51 Buettnerstrasse Niedersachsenring\n",
      "C52 Buettnerstrasse Niedersachsenring\n",
      "C56 Buettnerstrasse Niedersachsenring\n",
      "C61 Buettnerstrasse Grosser Kolonnenweg\n",
      "C63 Buettnerstrasse Windausstrasse\n",
      "C65 Buettnerstrasse Windausstrasse\n",
      "C79 Buettnerstrasse Niedersachsenring\n",
      "C82 Buettnerstrasse Niedersachsenring\n",
      "C88 Buettnerstrasse Windausstrasse\n",
      "C95 Buettnerstrasse Grosser Kolonnenweg\n",
      "C107 Buettnerstrasse Niedersachsenring\n",
      "C110 Buettnerstrasse Niedersachsenring\n",
      "C114 Buettnerstrasse Windausstrasse\n",
      "C115 Buettnerstrasse Niedersachsenring\n",
      "C116 Buettnerstrasse Niedersachsenring\n",
      "C122 Buettnerstrasse Grosser Kolonnenweg\n",
      "C126 Buettnerstrasse Niedersachsenring\n",
      "C127 Buettnerstrasse Windausstrasse\n",
      "C135 Buettnerstrasse Niedersachsenring\n",
      "C137 Buettnerstrasse Niedersachsenring\n",
      "C141 Buettnerstrasse Windausstrasse\n",
      "C149 Buettnerstrasse Windausstrasse\n"
     ]
    }
   ],
   "source": [
    "for (i, s), m in s_is_m.items():\n",
    "    if s == \"Buettnerstrasse\":\n",
    "        print(i, s, m)"
   ]
  }
 ],
 "metadata": {
  "kernelspec": {
   "display_name": "Python 3",
   "language": "python",
   "name": "python3"
  },
  "language_info": {
   "codemirror_mode": {
    "name": "ipython",
    "version": 3
   },
   "file_extension": ".py",
   "mimetype": "text/x-python",
   "name": "python",
   "nbconvert_exporter": "python",
   "pygments_lexer": "ipython3",
   "version": "3.10.12"
  }
 },
 "nbformat": 4,
 "nbformat_minor": 2
}
