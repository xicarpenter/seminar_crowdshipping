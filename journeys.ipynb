{
 "cells": [
  {
   "cell_type": "code",
   "execution_count": 1,
   "metadata": {},
   "outputs": [],
   "source": [
    "import json\n",
    "import requests\n",
    "\n",
    "URL_JOURNEY = '''https://gvh.hafas.de/hamm?requestId=undefined&hciMethod=StationBoard&hciVersion=\n",
    "1.62&hciClientType=WEB&hciClientVersion=10107&aid=IKSEvZ1SsVdfIRSK&rnd=1730290996611'''\n",
    "\n",
    "URL_LID = '''https://gvh.hafas.de/hamm?requestId=undefined&hciMethod=\n",
    "LocMatch&hciVersion=1.62&hciClientType=WEB&hciClientVersion=10107&aid=IKSEvZ1SsVdfIRSK&rnd=1730291024259'''\n",
    "\n",
    "DATA_JOURNEY = {\"ver\":\"1.62\",\n",
    "                \"lang\":\"deu\",\n",
    "                \"auth\":{\n",
    "                    \"type\":\"AID\",\n",
    "                    \"aid\":\"IKSEvZ1SsVdfIRSK\"},\n",
    "                \"client\":\n",
    "                    {\n",
    "                        \"id\":\"HAFAS\",\n",
    "                        \"type\":\"WEB\",\n",
    "                        \"name\":\"webapp\",\n",
    "                        \"l\":\"vs_webapp\",\n",
    "                        \"v\":10107\n",
    "                    },\n",
    "                \"formatted\":'false',\n",
    "                \"svcReqL\":[\n",
    "                    {\n",
    "                        \"req\":\n",
    "                        {\n",
    "                            \"jnyFltrL\":\n",
    "                            [\n",
    "                                {\"type\":\"PROD\",\n",
    "                                \"mode\":\"INC\",\n",
    "                                \"value\":831}\n",
    "                                ],\n",
    "                            \"stbLoc\":\n",
    "                                {\n",
    "                                    \"name\":\"xxx\",\n",
    "                                    \"lid\":\"de:03241:121\",\n",
    "                                    \"extId\":\"xxx\",\n",
    "                                    \"eteId\":\"xxx\"\n",
    "                                },\n",
    "                            \"type\":\"DEP\",\n",
    "                            \"sort\":\"PT\",\n",
    "                            \"maxJny\":100},\n",
    "                        \"meth\":\"StationBoard\",\n",
    "                        \"id\":\"1|5|\"}\n",
    "                    ]\n",
    "                }\n",
    "\n",
    "DATA_LID = {\"ver\":\"1.62\",\n",
    "            \"lang\":\"deu\",\n",
    "            \"auth\":\n",
    "                {\"type\":\"AID\",\n",
    "                 \"aid\":\"IKSEvZ1SsVdfIRSK\"},\n",
    "            \"client\":{\"id\":\"HAFAS\",\n",
    "                      \"type\":\"WEB\",\n",
    "                      \"name\":\"webapp\",\n",
    "                      \"l\":\"vs_webapp\",\n",
    "                      \"v\":10107},\n",
    "            \"formatted\":'false',\n",
    "            \"svcReqL\":[\n",
    "                {\"req\":\n",
    "                    {\"input\":\n",
    "                        {\"field\":\"S\",\n",
    "                         \"loc\":{\n",
    "                             \"type\":\"S\",\n",
    "                             \"dist\":1000,\n",
    "                             \"name\":\"Hannover, Kröpcke\"},\n",
    "                         \"maxLoc\":7}\n",
    "                        },\n",
    "                    \"meth\":\"LocMatch\",\n",
    "                    \"id\":\"1|8|\"}\n",
    "                ]\n",
    "            }\n"
   ]
  },
  {
   "cell_type": "code",
   "execution_count": 53,
   "metadata": {},
   "outputs": [],
   "source": [
    "def get_lid(name: str = None,\n",
    "            url: str = URL_LID,\n",
    "            data: dict = DATA_LID) -> str:\n",
    "    if name is not None:\n",
    "        data[\"svcReqL\"][0][\"req\"][\"input\"][\"loc\"][\"name\"] = name\n",
    "        \n",
    "    response = requests.post(url, json=data)\n",
    "    contents = response.json()\n",
    "    \n",
    "    lid = contents[\"svcResL\"][0][\"res\"][\"match\"][\"locL\"][0][\"lid\"]\n",
    "    \n",
    "    return lid\n",
    "\n",
    "\n",
    "def get_journeys(name: str = None, \n",
    "                 url: str = URL_JOURNEY,\n",
    "                 data: dict = DATA_JOURNEY,\n",
    "                 num_journeys: int = 100) -> dict:\n",
    "    \n",
    "    if name is not None:\n",
    "        data[\"svcReqL\"][0][\"req\"][\"stbLoc\"][\"lid\"] = get_lid(name)\n",
    "        \n",
    "    data[\"svcReqL\"][0][\"req\"][\"maxJny\"] = num_journeys\n",
    "\n",
    "    response = requests.post(url, json=data)\n",
    "    contents = response.json()\n",
    "    journeys = contents[\"svcResL\"][0][\"res\"][\"jnyL\"]\n",
    "    \n",
    "    return journeys"
   ]
  },
  {
   "cell_type": "code",
   "execution_count": 54,
   "metadata": {},
   "outputs": [],
   "source": [
    "journeys = get_journeys(name=\"Hannover, Kröpcke\", num_journeys=10)"
   ]
  },
  {
   "cell_type": "code",
   "execution_count": 55,
   "metadata": {},
   "outputs": [
    {
     "name": "stdout",
     "output_type": "stream",
     "text": [
      "10\n"
     ]
    }
   ],
   "source": [
    "# roderbruch = [journey for journey in journeys if journey[\"dirTxt\"] == \"Hannover/Roderbruch\"]\n",
    "\n",
    "# for jrn in roderbruch:\n",
    "#     print(jrn[\"stbStop\"][\"dTimeS\"])\n",
    "\n",
    "print(len(journeys))"
   ]
  }
 ],
 "metadata": {
  "kernelspec": {
   "display_name": "ML",
   "language": "python",
   "name": "python3"
  },
  "language_info": {
   "codemirror_mode": {
    "name": "ipython",
    "version": 3
   },
   "file_extension": ".py",
   "mimetype": "text/x-python",
   "name": "python",
   "nbconvert_exporter": "python",
   "pygments_lexer": "ipython3",
   "version": "3.8.17"
  }
 },
 "nbformat": 4,
 "nbformat_minor": 2
}
